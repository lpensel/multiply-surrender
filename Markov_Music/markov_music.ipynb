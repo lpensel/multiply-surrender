{
 "cells": [
  {
   "cell_type": "code",
   "execution_count": 1,
   "metadata": {},
   "outputs": [],
   "source": [
    "import mido\n",
    "import glob\n",
    "import numpy as np\n",
    "from scipy.sparse import lil_matrix\n",
    "from sklearn.preprocessing import normalize"
   ]
  },
  {
   "cell_type": "markdown",
   "metadata": {},
   "source": [
    "# Die Eingabedaten\n",
    "\n",
    "Die midi-Dateien wurden von <a href=\"http://www.piano-midi.de/beeth.htm\" target=\"blank\">piano-midi.de</a> herunter geladen und im Unterordner /Data/Beethoven/ gespeichert.\n",
    "\n",
    "Wir benutzen das Python Paket <a href=\"https://mido.readthedocs.io/en/latest/index.html\" target=\"blank\">mido</a> um midi-Dateien zu öffnen, zu verändern und zu speichern. Der Befehl\n",
    "\n",
    "```python\n",
    "mido.MidiFile(\"./path/to/file.mid\")\n",
    "```\n",
    "öffnet file.mid als Python Objekt. Wir können nun durch das Objekt iterieren und so nach und nach alle midi-Nachrichten bekommen."
   ]
  },
  {
   "cell_type": "code",
   "execution_count": 2,
   "metadata": {},
   "outputs": [
    {
     "name": "stdout",
     "output_type": "stream",
     "text": [
      "0 <meta message track_name name='Für Elise' time=0> 0\n",
      "1 <meta message copyright text='Copyright © 2004 by Bernd Krueger' time=0> 0\n",
      "2 <meta message text text='Ludwig van Beethoven' time=0> 0\n",
      "3 <meta message text text='Poco moto' time=0> 0\n",
      "4 <meta message text text='Fertiggestellt am 9.10.2004\\n' time=0> 0\n",
      "5 <meta message text text='Update am 30.8.2012\\n' time=0> 0\n",
      "6 <meta message text text='Dauer: 2:48 Minuten\\n' time=0> 0\n",
      "7 <meta message smpte_offset frame_rate=25 hours=32 minutes=0 seconds=3 frames=0 sub_frames=0 time=0> 0\n",
      "8 <meta message time_signature numerator=3 denominator=8 clocks_per_click=12 notated_32nd_notes_per_beat=8 time=0> 0\n",
      "9 <meta message key_signature key='C' time=0> 0\n",
      "10 <meta message set_tempo tempo=867303 time=0> 0\n",
      "11 <meta message track_name name='Piano right' time=0> 0\n",
      "12 program_change channel=0 program=0 time=0 0\n",
      "13 control_change channel=0 control=7 value=100 time=0 0\n",
      "14 control_change channel=0 control=10 value=64 time=0 0\n",
      "15 control_change channel=0 control=91 value=127 time=0 0\n",
      "16 <meta message text text='bdca426d104a26ac9dcb070447587523' time=0> 0\n",
      "17 <meta message track_name name='Piano left' time=0> 0\n",
      "18 program_change channel=0 program=0 time=0 0\n",
      "19 control_change channel=0 control=7 value=100 time=0 0\n",
      "20 control_change channel=0 control=10 value=64 time=0 0\n",
      "21 <meta message track_name name='Beethoven Für Elise' time=0> 0\n",
      "22 <meta message track_name name='Copyright © 2004 by Bernd Krüger' time=0> 0\n",
      "23 <meta message track_name name='http://www.piano-midi.de' time=0> 0\n",
      "24 <meta message track_name name='Edition: 2012-08-30' time=0> 0\n",
      "25 <meta message track_name name='Spur 7' time=0> 0\n",
      "26 <meta message set_tempo tempo=861203 time=0.831165375> 0.831165375\n",
      "27 <meta message set_tempo tempo=887574 time=0.03588345833333333> 0.03588345833333333\n",
      "28 note_on channel=0 note=76 velocity=36 time=0 0\n",
      "29 <meta message set_tempo tempo=881187 time=0.0739645> 0.0739645\n",
      "30 <meta message set_tempo tempo=874763 time=0.07343224999999999> 0.07343224999999999\n",
      "31 <meta message set_tempo tempo=868558 time=0.07289691666666666> 0.07289691666666666\n",
      "32 note_on channel=0 note=76 velocity=0 time=0 0\n",
      "33 note_on channel=0 note=75 velocity=33 time=0 0\n",
      "34 <meta message set_tempo tempo=862441 time=0.07237983333333334> 0.07237983333333334\n",
      "35 <meta message set_tempo tempo=856287 time=0.07187008333333333> 0.07187008333333333\n",
      "36 <meta message set_tempo tempo=856287 time=0.07135724999999998> 0.07135724999999998\n",
      "37 note_on channel=0 note=75 velocity=0 time=0 0\n",
      "38 note_on channel=0 note=76 velocity=39 time=0 0\n",
      "39 <meta message set_tempo tempo=850340 time=0.18552884999999997> 0.18552884999999997\n",
      "40 note_on channel=0 note=76 velocity=0 time=0.028344666666666667 0.028344666666666667\n",
      "41 note_on channel=0 note=75 velocity=36 time=0 0\n",
      "42 <meta message set_tempo tempo=844476 time=0.14172333333333334> 0.14172333333333334\n",
      "43 <meta message set_tempo tempo=827130 time=0.0211119> 0.0211119\n",
      "44 <meta message set_tempo tempo=837287 time=0.048249249999999994> 0.048249249999999994\n",
      "45 note_on channel=0 note=75 velocity=0 time=0 0\n",
      "46 note_on channel=0 note=76 velocity=45 time=0 0\n",
      "47 <meta message set_tempo tempo=843289 time=0.034886958333333336> 0.034886958333333336\n",
      "48 <meta message set_tempo tempo=849137 time=0.03513704166666667> 0.03513704166666667\n",
      "49 <meta message set_tempo tempo=854944 time=0.03538070833333333> 0.03538070833333333\n"
     ]
    }
   ],
   "source": [
    "elise = \"./Data/Beethoven/elise.mid\"\n",
    "elise_midi = mido.MidiFile(elise)\n",
    "\n",
    "for counter,message in enumerate(elise_midi):\n",
    "    if counter >=50:\n",
    "        break\n",
    "    \n",
    "    print(counter,message,message.time)"
   ]
  },
  {
   "cell_type": "markdown",
   "metadata": {},
   "source": [
    "# Simplere Darstellung\n",
    "\n",
    "Um einfacher mit den Noten zu arbeiten, überführen wir sie in eine simplere Darstellung. Hierbei werden alle Notenwerte in der Reihenfolge des Auftretens im Stück in einer Liste gespeichert.\n"
   ]
  },
  {
   "cell_type": "code",
   "execution_count": 3,
   "metadata": {},
   "outputs": [],
   "source": [
    "#midi in noten-Liste umwandeln\n",
    "def midi2note_sequence(midi):\n",
    "    sequence = []\n",
    "    \n",
    "    for message in midi:\n",
    "        if not message.is_meta:\n",
    "            if message.type == 'note_on':\n",
    "                if message.velocity > 0:\n",
    "                    sequence.append(message.note)\n",
    "   \n",
    "    return sequence"
   ]
  },
  {
   "cell_type": "code",
   "execution_count": 4,
   "metadata": {},
   "outputs": [],
   "source": [
    "#noten-Liste in midi umwandeln\n",
    "def note_sequence2midi(sequence, note_length):\n",
    "    output_midi = mido.MidiFile()\n",
    "    track = mido.MidiTrack()\n",
    "    output_midi.tracks.append(track)\n",
    "\n",
    "    track.append(mido.Message('program_change', program=0))\n",
    "\n",
    "    for note in sequence:\n",
    "        track.append(mido.Message('note_on', \n",
    "                                  note = note, \n",
    "                                  time = note_length))\n",
    "        track.append(mido.Message('note_off', \n",
    "                                  note = note, \n",
    "                                  time = note_length))\n",
    "\n",
    "    return output_midi"
   ]
  },
  {
   "cell_type": "markdown",
   "metadata": {},
   "source": [
    "Mit diesen Methoden lassen sich die midi-Objekte in Listen von Notenwerten und wieder zurück umwandeln.\n",
    "\n",
    "Diese Umwandlung wenden wir nun auf elise an."
   ]
  },
  {
   "cell_type": "code",
   "execution_count": 5,
   "metadata": {},
   "outputs": [],
   "source": [
    "note_length = 75\n",
    "\n",
    "sequence = midi2note_sequence(elise_midi)\n",
    "\n",
    "midi_out = note_sequence2midi(sequence,note_length)\n",
    "midi_out.save(\"./Results/elise_simple.mid\")"
   ]
  },
  {
   "cell_type": "markdown",
   "metadata": {},
   "source": [
    "# Markow-Ketten\n",
    "\n",
    "Unter Markow-Ketten versteht man Stochastische Prozesse, bei denen die Wahrscheinlichkeiten für das Auftreten zuküftiger Ereignisse, basierend auf dem derzeitigen Zustand, angegeben werden.\n",
    "\n",
    "Dies kann dazu genutzt werden um Sequenzen von Ereignissen des selben Prozesses vorherzusagen, indem, beginnend mit einem gewählten Ereigniss, immer wieder das nächste Ereigniss, basierend auf dem zuletzt gewählten, \"ausgewürfelt\" wird.\n",
    "\n",
    "## Beispiel: Wetter\n",
    "<img src=\"https://upload.wikimedia.org/wikipedia/commons/thumb/9/91/Elementarymarkow.png/280px-Elementarymarkow.png\" />\n",
    "Benutzen wir eine Markow-Kette um eine einfache Wettervorhersage zu tätigen. Das Wetter wird wie folgt kodiert:\n",
    "\n",
    "1 = \"sonnig\", 2 = \"bewölkt\", 3 = \"regnerisch\"\n",
    "\n",
    "Wir nehmen an, dass in 80% der Fälle auf Sonne Regen folgt und in 20% der Fälle es nach Sonne bewölkt ist. Außerdem, dass die Wahrscheinlich keit für Sonne und Regen nach einem bewölkten Tag 50/50 ist und dass in 10% der Fälle Sonne auf Regen folgt und es in 90% der Fälle nach Regen bewölkt ist.\n",
    "\n",
    "Somit ergibt sich die sogenannte Übergangsmatrix mit den Übergangswahrscheinlichkeiten:\n",
    "\n",
    " Matrix  | sonnig | bewölkt | regnerisch\n",
    " ---|:---:|:---:|:---:\n",
    "**sonnig** | 0 | 0,2 | 0,8\n",
    "**bewölkt** |0,5 | 0 | 0,5\n",
    "**regnerisch** | 0,1 | 0,9 | 0\n",
    "\n",
    "Somit könnte sich diese Wettersequenz ergeben:\n",
    "\n",
    "sonnig &rarr; regnerisch &rarr; bewölkt &rarr; sonnig &rarr; bewölkt &rarr; sonnig\n",
    "\n",
    "\n",
    "## Übergangsmatrix berechnen\n",
    "\n",
    "Hat man eine Sequenz von Ereignissen gegeben und möchte die zugehörige Markow-Kette berechnen, bzw. die Übergangswahrscheinlichkeiten dieser, so betrachtet man zuerst alle aufeinanderfolgende Paare von Ereignissen. Nun zählt man, wie häufig die Paare auftauchen und normalisiert die passenden Werte, um Wahrscheinlichkeiten zu erhalten.\n",
    "\n",
    "Gegeben die Sequenz:\n",
    "\n",
    "1 &rarr; 2 &rarr; 1 &rarr; 3 &rarr; 2 &rarr; 1 &rarr; 3 &rarr; 1 &rarr; 3 &rarr; 2 &rarr; 3\n",
    "\n",
    "Nun erhalten wir die Paare:\n",
    "\n",
    "(1,2), (2,1), (1,3), (3,2), (2,1), (1,3), (3,1), (1,3), (3,2), (2,3)\n",
    "\n",
    "Mit den Häufigkeiten:\n",
    "\n",
    "(1,2)|(1,3)|(2,1)|(2,3)|(3,1)|(3,2)\n",
    "---|---|---|---|---|---\n",
    "1| 3 | 2 | 1 | 1 | 2\n",
    "\n",
    "Als Matrix:\n",
    "\n",
    " Matrix  | 1 | 2 | 3\n",
    " ---|:---:|:---:|:---:\n",
    "**1** | 0 | 1 | 3\n",
    "**2** |2 | 0 | 1\n",
    "**3** | 1 | 2 | 0\n",
    "\n",
    "Auf Wahrscheinlichkeiten normalisiert:\n",
    "\n",
    " Matrix  | 1 | 2 | 3\n",
    " ---|:---:|:---:|:---:\n",
    "**1** | 0 | 0.25 | 0.75\n",
    "**2** |0.67 | 0 | 0.33\n",
    "**3** | 0.33 | 0.67 | 0\n",
    "\n",
    "## Ketten n-ter Ordnung\n",
    "\n",
    "Möchte man nicht nur den derzeitigen Zustand als Basis für den Nächsten nehmen, so kann man Markow-Ketten höherer Ordnung benutzen. Bei einer Markow-Kette n-ter Ordnung werden also die letzten n Ereignisse benutzt, um das nächste Ereigniss vorherzusagen.\n",
    "\n",
    "\n",
    "# Markow-Ketten für simple Musikstücke"
   ]
  },
  {
   "cell_type": "code",
   "execution_count": 6,
   "metadata": {},
   "outputs": [],
   "source": [
    "#Erzeugt alle Übergänge n-ter Ordnung aus einer Sequenz\n",
    "def get_n_transitions(sequence,n):\n",
    "    transition_list = []\n",
    "    for idx,target in enumerate(sequence[n:]):\n",
    "        previous = tuple([sequence[idx+offset] for offset in range(n)])\n",
    "        transition_list.append((previous,target))\n",
    "    return transition_list"
   ]
  },
  {
   "cell_type": "code",
   "execution_count": 7,
   "metadata": {},
   "outputs": [],
   "source": [
    "#Hilsfunktion, welche die Ereignisse auf den Zahlenraum von 0..m kodiert, bzw. dekodiert\n",
    "def encode_data(transitions):\n",
    "    encoder = [{},{}]\n",
    "    decoder = [{},{}]\n",
    "    \n",
    "    for idx,previous in enumerate(set([pair[0] for pair in transitions])):\n",
    "        encoder[0][previous] = idx\n",
    "        decoder[0][idx] = previous\n",
    "        \n",
    "    for idx,target in enumerate(set([pair[1] for pair in transitions])):\n",
    "        encoder[1][target] = idx\n",
    "        decoder[1][idx] = target\n",
    "        \n",
    "    return encoder, decoder"
   ]
  },
  {
   "cell_type": "code",
   "execution_count": 8,
   "metadata": {},
   "outputs": [],
   "source": [
    "#Erzeugt die Übergangsmatrix aus Listen von Übergängen\n",
    "def build_matrix(transitions):\n",
    "    encoder, decoder = encode_data(transitions)\n",
    "    \n",
    "    matrix_shape = (len(encoder[0]),len(encoder[1]))\n",
    "    \n",
    "    transition_matrix = lil_matrix(matrix_shape)\n",
    "    \n",
    "    for previous,target in transitions:\n",
    "        previous_idx = encoder[0][previous]\n",
    "        target_idx = encoder[1][target]\n",
    "        transition_matrix[previous_idx,target_idx] += 1.\n",
    "        \n",
    "    transition_matrix = normalize(transition_matrix,norm='l1',axis=1)\n",
    "    \n",
    "    return transition_matrix,encoder,decoder"
   ]
  },
  {
   "cell_type": "code",
   "execution_count": 9,
   "metadata": {},
   "outputs": [],
   "source": [
    "#Gibt das nächste Ereignis, basierend auf den letzten n Ereignissen zurück\n",
    "def make_step(previous,transition_matrix,encoder,decoder):\n",
    "    previous_idx = encoder[0][previous]\n",
    "    transition_probabilities = transition_matrix[previous_idx].toarray().flatten()\n",
    "    target_idx = np.random.choice(len(encoder[1]),p=transition_probabilities)\n",
    "    target = decoder[1][target_idx]\n",
    "    previous = tuple(list(previous[1:]) + [target])\n",
    "    return previous,target"
   ]
  },
  {
   "cell_type": "code",
   "execution_count": 10,
   "metadata": {},
   "outputs": [],
   "source": [
    "#Erzeugt eine Sequenz, generiert mit einer Markow-Kette n-ter Ordnung, \n",
    "#basierend auf den gegebenen Trainings Sequenzen\n",
    "def generate_markow_sequence(train_sequences,n,max_length):\n",
    "    transitions = []\n",
    "    for sequence in train_sequences:\n",
    "        transitions += get_n_transitions(sequence,n)\n",
    "    \n",
    "    transition_matrix,encoder,decoder = build_matrix(transitions)\n",
    "    \n",
    "    output_sequence = []\n",
    "    \n",
    "    previous_idx = np.random.choice(list(decoder[0].keys()))\n",
    "    previous = decoder[0][previous_idx]\n",
    "    for note in previous:\n",
    "        output_sequence.append(note)\n",
    "    \n",
    "    for _ in range(max_length):\n",
    "        previous,note = make_step(previous,transition_matrix,encoder,decoder)\n",
    "        output_sequence.append(note)\n",
    "        \n",
    "        if previous not in encoder[0]:\n",
    "            break\n",
    "            \n",
    "    return output_sequence"
   ]
  },
  {
   "cell_type": "markdown",
   "metadata": {},
   "source": [
    "Generieren wir nun mehrere \"neue\" Stücke basierend auf elise für n = 1,3,5,10"
   ]
  },
  {
   "cell_type": "code",
   "execution_count": 11,
   "metadata": {},
   "outputs": [],
   "source": [
    "note_length = 75\n",
    "n_ords = [1,3,5,10]\n",
    "max_length = 300\n",
    "train_sequences = [midi2note_sequence(elise_midi)]\n",
    "\n",
    "for n in n_ords:\n",
    "    new_sequence = generate_markow_sequence(train_sequences,n,max_length)\n",
    "\n",
    "    midi_out = note_sequence2midi(new_sequence,note_length)\n",
    "    midi_out.save(\"./Results/elise_simple_markov_{}.mid\".format(n))"
   ]
  },
  {
   "cell_type": "markdown",
   "metadata": {},
   "source": [
    "# Alle Stücke als Basis\n",
    "\n",
    "Jetzt nutzen wir alle vorhandenen midi Dateien als Basis für die Markow-Ketten."
   ]
  },
  {
   "cell_type": "code",
   "execution_count": 12,
   "metadata": {},
   "outputs": [],
   "source": [
    "train_files = glob.glob(\"./Data/Beethoven/*.mid\")\n",
    "train_midis = [mido.MidiFile(file) for file in train_files]\n",
    "\n",
    "note_length = 75\n",
    "n_ords = [1,3,5,10]\n",
    "max_length = 300\n",
    "train_sequences = [midi2note_sequence(midi) for midi in train_midis]\n",
    "\n",
    "for n in n_ords:\n",
    "    new_sequence = generate_markow_sequence(train_sequences,n,max_length)\n",
    "\n",
    "    midi_out = note_sequence2midi(new_sequence,note_length)\n",
    "    midi_out.save(\"./Results/beethoven_simple_markov_{}.mid\".format(n))"
   ]
  },
  {
   "cell_type": "code",
   "execution_count": null,
   "metadata": {},
   "outputs": [],
   "source": []
  }
 ],
 "metadata": {
  "kernelspec": {
   "display_name": "Python 3",
   "language": "python",
   "name": "python3"
  },
  "language_info": {
   "codemirror_mode": {
    "name": "ipython",
    "version": 3
   },
   "file_extension": ".py",
   "mimetype": "text/x-python",
   "name": "python",
   "nbconvert_exporter": "python",
   "pygments_lexer": "ipython3",
   "version": "3.6.8"
  }
 },
 "nbformat": 4,
 "nbformat_minor": 2
}
